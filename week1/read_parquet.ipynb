{
  "nbformat": 4,
  "nbformat_minor": 0,
  "metadata": {
    "colab": {
      "name": "read_parquet.ipynb",
      "provenance": []
    },
    "kernelspec": {
      "name": "python3",
      "display_name": "Python 3"
    },
    "language_info": {
      "name": "python"
    }
  },
  "cells": [
    {
      "cell_type": "markdown",
      "source": [
        "## Import pandas"
      ],
      "metadata": {
        "id": "NHgEXVLdw6da"
      }
    },
    {
      "cell_type": "code",
      "execution_count": 1,
      "metadata": {
        "id": "kQVAtsShwBMD"
      },
      "outputs": [],
      "source": [
        "import pandas as pd"
      ]
    },
    {
      "cell_type": "markdown",
      "source": [
        "## Download the data"
      ],
      "metadata": {
        "id": "pJqY3jKNw92C"
      }
    },
    {
      "cell_type": "code",
      "source": [
        "!wget https://s3.amazonaws.com/nyc-tlc/trip+data/yellow_tripdata_2021-01.parquet"
      ],
      "metadata": {
        "colab": {
          "base_uri": "https://localhost:8080/"
        },
        "id": "azxBk45pwKAo",
        "outputId": "5124e6f8-abaa-49b9-9ed0-3466f1cdeddc"
      },
      "execution_count": 2,
      "outputs": [
        {
          "output_type": "stream",
          "name": "stdout",
          "text": [
            "--2022-06-19 11:37:25--  https://s3.amazonaws.com/nyc-tlc/trip+data/yellow_tripdata_2021-01.parquet\n",
            "Resolving s3.amazonaws.com (s3.amazonaws.com)... 52.217.163.80\n",
            "Connecting to s3.amazonaws.com (s3.amazonaws.com)|52.217.163.80|:443... connected.\n",
            "HTTP request sent, awaiting response... 200 OK\n",
            "Length: 21686067 (21M) [application/x-www-form-urlencoded]\n",
            "Saving to: ‘yellow_tripdata_2021-01.parquet’\n",
            "\n",
            "yellow_tripdata_202 100%[===================>]  20.68M  22.1MB/s    in 0.9s    \n",
            "\n",
            "2022-06-19 11:37:26 (22.1 MB/s) - ‘yellow_tripdata_2021-01.parquet’ saved [21686067/21686067]\n",
            "\n"
          ]
        }
      ]
    },
    {
      "cell_type": "markdown",
      "source": [
        "## Use pandas `read_parquet`\n",
        "\n",
        "\n",
        "*  Dependency check: Check if `fastparquet` or `pyarrow` is installed\n",
        "\n",
        "\n"
      ],
      "metadata": {
        "id": "1QlZuzERxMc1"
      }
    },
    {
      "cell_type": "code",
      "source": [
        "df = pd.read_parquet(\"/content/yellow_tripdata_2021-01.parquet\")"
      ],
      "metadata": {
        "id": "5v-ggvx0wM3F"
      },
      "execution_count": 6,
      "outputs": []
    },
    {
      "cell_type": "code",
      "source": [
        "df.dtypes"
      ],
      "metadata": {
        "colab": {
          "base_uri": "https://localhost:8080/"
        },
        "id": "DqPYqVrWwrcq",
        "outputId": "90a1b752-e2c6-413c-e266-64498fffad0d"
      },
      "execution_count": 7,
      "outputs": [
        {
          "output_type": "execute_result",
          "data": {
            "text/plain": [
              "VendorID                          int64\n",
              "tpep_pickup_datetime     datetime64[ns]\n",
              "tpep_dropoff_datetime    datetime64[ns]\n",
              "passenger_count                 float64\n",
              "trip_distance                   float64\n",
              "RatecodeID                      float64\n",
              "store_and_fwd_flag               object\n",
              "PULocationID                      int64\n",
              "DOLocationID                      int64\n",
              "payment_type                      int64\n",
              "fare_amount                     float64\n",
              "extra                           float64\n",
              "mta_tax                         float64\n",
              "tip_amount                      float64\n",
              "tolls_amount                    float64\n",
              "improvement_surcharge           float64\n",
              "total_amount                    float64\n",
              "congestion_surcharge            float64\n",
              "airport_fee                     float64\n",
              "dtype: object"
            ]
          },
          "metadata": {},
          "execution_count": 7
        }
      ]
    }
  ]
}